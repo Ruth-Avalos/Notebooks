{
  "nbformat": 4,
  "nbformat_minor": 0,
  "metadata": {
    "kernelspec": {
      "display_name": "Python 3",
      "language": "python",
      "name": "python3"
    },
    "language_info": {
      "codemirror_mode": {
        "name": "ipython",
        "version": 3
      },
      "file_extension": ".py",
      "mimetype": "text/x-python",
      "name": "python",
      "nbconvert_exporter": "python",
      "pygments_lexer": "ipython3",
      "version": "3.7.3"
    },
    "colab": {
      "provenance": [],
      "include_colab_link": true
    }
  },
  "cells": [
    {
      "cell_type": "markdown",
      "metadata": {
        "id": "view-in-github",
        "colab_type": "text"
      },
      "source": [
        "<a href=\"https://colab.research.google.com/github/Ruth-Avalos/Notebooks/blob/main/Notebook_5.ipynb\" target=\"_parent\"><img src=\"https://colab.research.google.com/assets/colab-badge.svg\" alt=\"Open In Colab\"/></a>"
      ]
    },
    {
      "cell_type": "markdown",
      "metadata": {
        "id": "Gp2WddtV9IwG"
      },
      "source": [
        "# Programa Ingenias+ Data Science"
      ]
    },
    {
      "cell_type": "markdown",
      "metadata": {
        "id": "H4M1yVbf9IwH"
      },
      "source": [
        "Como dijimos en clases anteriores, Python tiene implementadas muchas librerias para poder trabajar con datos. En la clase de hoy trabajaremos con una de ellas: `Numpy`."
      ]
    },
    {
      "cell_type": "markdown",
      "metadata": {
        "id": "GdTT8WeL9IwI"
      },
      "source": [
        "Antes de comenzar, vamos a hablar un poco de esta libreria o modulo.\n",
        "\n",
        "**Numpy** es una librería optimizada para realizar cálculos numéricos con vectores y matrices. A diferencia de otros lenguajes de programación, Python no posee en su estructura central la figura de matrices. Eso quiere decir que para poder trabajar con esta estructura de datos deberiamos trabajar con listas de listas. NumPy introduce el concepto de arrays o matrices."
      ]
    },
    {
      "cell_type": "markdown",
      "metadata": {
        "id": "qWkq3EHK9IwK"
      },
      "source": [
        "Al ser de código abierto, `numpy` posee una documentación muy amplia que es **SIEMPRE RECOMENDABLE** consultar."
      ]
    },
    {
      "cell_type": "markdown",
      "metadata": {
        "id": "nxe3KLUO9IwL"
      },
      "source": [
        "- [Documentacion NumPy](https://devdocs.io/numpy/)"
      ]
    },
    {
      "cell_type": "markdown",
      "metadata": {
        "id": "l1Ay3nSs9IwN"
      },
      "source": [
        "## Clase 4: Introduccion a NumPy"
      ]
    },
    {
      "cell_type": "markdown",
      "metadata": {
        "id": "X03mviQS9IyL"
      },
      "source": [
        "# Ejercicios\n",
        "\n",
        "1. Crear un arreglo de ceros de longitud 12\n",
        "2. Crear un arreglo de longitud 10 con ceros en todas sus posiciones y un 10 en la posición número 5\n",
        "3. Crear un arreglo que tenga los números del 10 al 49\n",
        "4. Crear una arreglo 2d de shape (3, 3) que tenga los números del 0 al 8\n",
        "5. Crear un arreglo de números aleatorios de longitud 100 y obtener su media y varianza\n",
        "6. Calcular la media de un arreglo usando np.sum\n",
        "7. Calcular la varianza de un arreglo usando np.sum y np.mean\n",
        "8. Crear un array de números aleatorios usando np.random.randn.\n"
      ]
    },
    {
      "cell_type": "code",
      "metadata": {
        "id": "G0NMKT609IyM"
      },
      "source": [
        "import numpy as np"
      ],
      "execution_count": 3,
      "outputs": []
    },
    {
      "cell_type": "code",
      "source": [
        "#1\n",
        "arr = np.zeros(12)\n",
        "arr"
      ],
      "metadata": {
        "id": "kBSRJ7G4R6KC",
        "outputId": "4b0e1c4e-8cbc-4d2a-8c0d-c22b675147a1",
        "colab": {
          "base_uri": "https://localhost:8080/"
        }
      },
      "execution_count": 4,
      "outputs": [
        {
          "output_type": "execute_result",
          "data": {
            "text/plain": [
              "array([0., 0., 0., 0., 0., 0., 0., 0., 0., 0., 0., 0.])"
            ]
          },
          "metadata": {},
          "execution_count": 4
        }
      ]
    },
    {
      "cell_type": "code",
      "source": [
        "#2\n",
        "array2 = np.zeros(10)\n",
        "array2[4] = 10\n",
        "array2"
      ],
      "metadata": {
        "id": "DNARPK6QSypJ",
        "outputId": "abd11bde-60d2-4664-962a-816084d699e1",
        "colab": {
          "base_uri": "https://localhost:8080/"
        }
      },
      "execution_count": 5,
      "outputs": [
        {
          "output_type": "execute_result",
          "data": {
            "text/plain": [
              "array([ 0.,  0.,  0.,  0., 10.,  0.,  0.,  0.,  0.,  0.])"
            ]
          },
          "metadata": {},
          "execution_count": 5
        }
      ]
    },
    {
      "cell_type": "code",
      "source": [
        "#3\n",
        "array3 = np.arange(10,50)\n",
        "array3"
      ],
      "metadata": {
        "id": "gppdW12FLm-x",
        "outputId": "3ec9d2e7-9d77-4fee-d4ce-ba64a238ed61",
        "colab": {
          "base_uri": "https://localhost:8080/"
        }
      },
      "execution_count": 6,
      "outputs": [
        {
          "output_type": "execute_result",
          "data": {
            "text/plain": [
              "array([10, 11, 12, 13, 14, 15, 16, 17, 18, 19, 20, 21, 22, 23, 24, 25, 26,\n",
              "       27, 28, 29, 30, 31, 32, 33, 34, 35, 36, 37, 38, 39, 40, 41, 42, 43,\n",
              "       44, 45, 46, 47, 48, 49])"
            ]
          },
          "metadata": {},
          "execution_count": 6
        }
      ]
    },
    {
      "cell_type": "code",
      "source": [
        "#4\n",
        "lista = [[0, 1, 2], [3, 4, 5], [6, 7, 8]]\n",
        "arr2d = np.array(lista)\n",
        "arr2d"
      ],
      "metadata": {
        "id": "rnJrUsemOiwM",
        "outputId": "e91f6f1b-5981-48f6-c7b7-29aea6d708fb",
        "colab": {
          "base_uri": "https://localhost:8080/"
        }
      },
      "execution_count": 7,
      "outputs": [
        {
          "output_type": "execute_result",
          "data": {
            "text/plain": [
              "array([[0, 1, 2],\n",
              "       [3, 4, 5],\n",
              "       [6, 7, 8]])"
            ]
          },
          "metadata": {},
          "execution_count": 7
        }
      ]
    },
    {
      "cell_type": "code",
      "source": [
        "#5\n",
        "array4 = np.random.randint(0,100,100)\n",
        "array4.size\n",
        "array4"
      ],
      "metadata": {
        "id": "yYpZYJCWRJLn",
        "outputId": "4cfa4ddd-c9f5-40ba-a04e-0eb42f6f246e",
        "colab": {
          "base_uri": "https://localhost:8080/"
        }
      },
      "execution_count": 8,
      "outputs": [
        {
          "output_type": "execute_result",
          "data": {
            "text/plain": [
              "array([14, 17, 27, 43,  0, 81, 63, 38, 15, 74, 69, 36, 35, 72, 38, 63, 29,\n",
              "       77, 38, 90, 48, 91, 93, 92, 90, 76, 16, 85, 90, 75,  6, 20, 42, 46,\n",
              "       89, 71, 91, 20, 25, 57, 14, 87,  5, 36, 25, 93, 66, 99, 31, 90, 63,\n",
              "       90,  9, 16, 83, 50, 95, 46,  2,  4, 21, 92, 62, 69, 94, 55, 44, 66,\n",
              "       39, 62, 76, 92, 18, 79,  2, 23, 69,  5, 80, 14, 43, 71, 29, 62, 57,\n",
              "       59, 40, 53, 98, 84, 97, 47, 60, 76, 79, 37, 85, 44, 93, 89])"
            ]
          },
          "metadata": {},
          "execution_count": 8
        }
      ]
    },
    {
      "cell_type": "code",
      "source": [
        "array4.mean()"
      ],
      "metadata": {
        "id": "-YkPysAkXAVF",
        "outputId": "80105d36-1778-4790-8e3a-07e78d0ee447",
        "colab": {
          "base_uri": "https://localhost:8080/"
        }
      },
      "execution_count": 9,
      "outputs": [
        {
          "output_type": "execute_result",
          "data": {
            "text/plain": [
              "55.11"
            ]
          },
          "metadata": {},
          "execution_count": 9
        }
      ]
    },
    {
      "cell_type": "code",
      "source": [
        "array4.var()"
      ],
      "metadata": {
        "id": "FBMDrvQUXkgx",
        "outputId": "f6d946b7-33c9-41d5-a975-776af2c172cd",
        "colab": {
          "base_uri": "https://localhost:8080/"
        }
      },
      "execution_count": 10,
      "outputs": [
        {
          "output_type": "execute_result",
          "data": {
            "text/plain": [
              "858.2379000000001"
            ]
          },
          "metadata": {},
          "execution_count": 10
        }
      ]
    },
    {
      "cell_type": "code",
      "source": [
        "#6\n",
        "array4.sum()/array4.size"
      ],
      "metadata": {
        "id": "vqOxTMV1YYFI",
        "outputId": "cb475f58-3ddf-4982-d508-fb3b46d0f842",
        "colab": {
          "base_uri": "https://localhost:8080/"
        }
      },
      "execution_count": 11,
      "outputs": [
        {
          "output_type": "execute_result",
          "data": {
            "text/plain": [
              "55.11"
            ]
          },
          "metadata": {},
          "execution_count": 11
        }
      ]
    },
    {
      "cell_type": "code",
      "source": [
        "#7\n",
        "media = array4.mean()\n",
        "\n",
        "diferencia_al_cuadrado = (array4 - media)**2\n",
        "\n",
        "suma_diferencias_al_cuadrado = np.sum(diferencia_al_cuadrado)\n",
        "\n",
        "varianza = suma_diferencias_al_cuadrado / array4.size\n",
        "\n",
        "print('La varianza de {} es de {}'.format(array4, varianza))"
      ],
      "metadata": {
        "colab": {
          "base_uri": "https://localhost:8080/"
        },
        "id": "lBmNAXbjb7t_",
        "outputId": "03153a31-0bfd-4cc1-e679-def1d443efd6"
      },
      "execution_count": 12,
      "outputs": [
        {
          "output_type": "stream",
          "name": "stdout",
          "text": [
            "La varianza de [14 17 27 43  0 81 63 38 15 74 69 36 35 72 38 63 29 77 38 90 48 91 93 92\n",
            " 90 76 16 85 90 75  6 20 42 46 89 71 91 20 25 57 14 87  5 36 25 93 66 99\n",
            " 31 90 63 90  9 16 83 50 95 46  2  4 21 92 62 69 94 55 44 66 39 62 76 92\n",
            " 18 79  2 23 69  5 80 14 43 71 29 62 57 59 40 53 98 84 97 47 60 76 79 37\n",
            " 85 44 93 89] es de 858.2379000000001\n"
          ]
        }
      ]
    },
    {
      "cell_type": "code",
      "source": [
        "#8\n",
        "array6 = np.random.randn(8)\n",
        "array6"
      ],
      "metadata": {
        "id": "9k6NB8xAPJP6",
        "outputId": "856bd8f0-f19f-4079-c9ea-f82fb2abb8d5",
        "colab": {
          "base_uri": "https://localhost:8080/"
        }
      },
      "execution_count": 13,
      "outputs": [
        {
          "output_type": "execute_result",
          "data": {
            "text/plain": [
              "array([ 0.51743202, -0.65894145, -0.22215477, -1.22000115, -1.70113651,\n",
              "        0.24190158, -0.07201314, -0.42511184])"
            ]
          },
          "metadata": {},
          "execution_count": 13
        }
      ]
    },
    {
      "cell_type": "code",
      "source": [
        "np.mean(array6)"
      ],
      "metadata": {
        "id": "bM_bM21Qjwb9",
        "outputId": "cceff251-94a9-4a3d-bc0a-4485eddc6bba",
        "colab": {
          "base_uri": "https://localhost:8080/"
        }
      },
      "execution_count": 14,
      "outputs": [
        {
          "output_type": "execute_result",
          "data": {
            "text/plain": [
              "-0.4425031568320099"
            ]
          },
          "metadata": {},
          "execution_count": 14
        }
      ]
    },
    {
      "cell_type": "code",
      "source": [
        "np.sum(array6)"
      ],
      "metadata": {
        "id": "K5oTKJlhjzKC",
        "outputId": "f2dbc567-12e4-45d9-bca5-0295672bf658",
        "colab": {
          "base_uri": "https://localhost:8080/"
        }
      },
      "execution_count": 15,
      "outputs": [
        {
          "output_type": "execute_result",
          "data": {
            "text/plain": [
              "-3.5400252546560793"
            ]
          },
          "metadata": {},
          "execution_count": 15
        }
      ]
    },
    {
      "cell_type": "code",
      "source": [
        "np.var(array6)"
      ],
      "metadata": {
        "id": "kQHz9bF5j2da",
        "outputId": "8fcf1f25-5611-4b29-9839-2656a6a46e84",
        "colab": {
          "base_uri": "https://localhost:8080/"
        }
      },
      "execution_count": 16,
      "outputs": [
        {
          "output_type": "execute_result",
          "data": {
            "text/plain": [
              "0.4764388346726619"
            ]
          },
          "metadata": {},
          "execution_count": 16
        }
      ]
    }
  ]
}